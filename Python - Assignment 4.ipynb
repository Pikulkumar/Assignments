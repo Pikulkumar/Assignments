{
 "cells": [
  {
   "cell_type": "raw",
   "id": "14d8f619",
   "metadata": {},
   "source": [
    "1. What exactly is []?\n",
    "\n",
    "Ans) [] is a empty list."
   ]
  },
  {
   "cell_type": "raw",
   "id": "b06c6c2c",
   "metadata": {},
   "source": [
    "2. In a list of values stored in a variable called spam, how would you assign the value 'hello' as the\n",
    "third value? (Assume [2, 4, 6, 8, 10] are in spam.)"
   ]
  },
  {
   "cell_type": "code",
   "execution_count": 1,
   "id": "6bc9d099",
   "metadata": {},
   "outputs": [],
   "source": [
    "spam=[2,4,6,8,10]\n",
    "spam[2]='hello'"
   ]
  },
  {
   "cell_type": "code",
   "execution_count": 2,
   "id": "0fd1a4f1",
   "metadata": {},
   "outputs": [
    {
     "data": {
      "text/plain": [
       "[2, 4, 'hello', 8, 10]"
      ]
     },
     "execution_count": 2,
     "metadata": {},
     "output_type": "execute_result"
    }
   ],
   "source": [
    "spam"
   ]
  },
  {
   "cell_type": "raw",
   "id": "2ee11309",
   "metadata": {},
   "source": [
    "Let's pretend the spam includes the list ['a','b','c','d'] for the next three queries."
   ]
  },
  {
   "cell_type": "raw",
   "id": "cc95a76b",
   "metadata": {},
   "source": [
    "3. What is the value of spam[int(int('3' * 2) / 11)]?\n",
    "\n",
    "Ans) 'b'"
   ]
  },
  {
   "cell_type": "raw",
   "id": "c053a893",
   "metadata": {},
   "source": [
    "4. What is the value of spam[-1]?\n",
    "\n",
    "Ans) 'd'"
   ]
  },
  {
   "cell_type": "raw",
   "id": "abbaaca2",
   "metadata": {},
   "source": [
    "5. What is the value of spam[:2]?\n",
    "\n",
    "Ans) ['a','b']"
   ]
  },
  {
   "cell_type": "raw",
   "id": "18db6186",
   "metadata": {},
   "source": [
    "Let's pretend bacon has the list [3.14, 'cat', 11, 'cat', True] for the next three questions."
   ]
  },
  {
   "cell_type": "raw",
   "id": "e9963d44",
   "metadata": {},
   "source": [
    "6. What is the value of bacon.index('cat')?\n",
    "\n",
    "Ans) 1"
   ]
  },
  {
   "cell_type": "raw",
   "id": "4fb1baa6",
   "metadata": {},
   "source": [
    "7. How does bacon.append(99) change the look of the list value in bacon?\n",
    "\n",
    "Ans) bacon= [3.14,'cat',11,'cat',True,99]"
   ]
  },
  {
   "cell_type": "raw",
   "id": "008b933a",
   "metadata": {},
   "source": [
    "8. How does bacon.remove('cat') change the look of the list in bacon?\n",
    "\n",
    "Ans) [3.14,11, 'cat', True]"
   ]
  },
  {
   "cell_type": "raw",
   "id": "7dcb48cf",
   "metadata": {},
   "source": [
    "9. What are the list concatenation and list replication operators?\n",
    "\n",
    "Ans)Contatenation is a process that adds the elements of one list to the end of another list.\n",
    "    There are 2 replication operators in list + and *.\n",
    "    + add the elements of one list to another while * replicates the elements in the list."
   ]
  },
  {
   "cell_type": "raw",
   "id": "0344a6b1",
   "metadata": {},
   "source": [
    "10. What is difference between the list methods append() and insert()?\n",
    "\n",
    "Ans) append() meathod is use to add single element in the list, while insert() is use to add more than single element in list."
   ]
  },
  {
   "cell_type": "raw",
   "id": "4f643013",
   "metadata": {},
   "source": [
    "11. What are the two methods for removing items from a list?\n",
    "\n",
    "Ans) remove() ans pop()"
   ]
  },
  {
   "cell_type": "raw",
   "id": "2d8b8ab4",
   "metadata": {},
   "source": [
    "12. Describe how list values and string values are identical.\n",
    "\n",
    "Ans)Values in list and string are ordered collections of elements."
   ]
  },
  {
   "cell_type": "raw",
   "id": "fd3fedbc",
   "metadata": {},
   "source": [
    "13. What's the difference between tuples and lists?\n",
    "\n",
    "Ans)Tuple is a immutable data type in which values are enclosed in ().\n",
    "    List is a mutable data type in which values are enclosed in []."
   ]
  },
  {
   "cell_type": "raw",
   "id": "2bbd0ffb",
   "metadata": {},
   "source": [
    "14. How do you type a tuple value that only contains the integer 42?\n",
    "\n",
    "Ans) tuple = (42),tuple"
   ]
  },
  {
   "cell_type": "raw",
   "id": "1d034332",
   "metadata": {},
   "source": [
    "15. How do you get a list value's tuple form? How do you get a tuple value's list form?"
   ]
  },
  {
   "cell_type": "code",
   "execution_count": 5,
   "id": "1e285124",
   "metadata": {},
   "outputs": [
    {
     "data": {
      "text/plain": [
       "(1, 2, 3, 4, 5)"
      ]
     },
     "execution_count": 5,
     "metadata": {},
     "output_type": "execute_result"
    }
   ],
   "source": [
    "list = [1,2,3,4,5]\n",
    "t=tuple(list)\n",
    "t"
   ]
  },
  {
   "cell_type": "code",
   "execution_count": 4,
   "id": "75c7e48f",
   "metadata": {},
   "outputs": [
    {
     "data": {
      "text/plain": [
       "tuple"
      ]
     },
     "execution_count": 4,
     "metadata": {},
     "output_type": "execute_result"
    }
   ],
   "source": [
    "type(t)"
   ]
  },
  {
   "cell_type": "code",
   "execution_count": 7,
   "id": "a9960018",
   "metadata": {},
   "outputs": [
    {
     "name": "stdout",
     "output_type": "stream",
     "text": [
      "[9, 8, 7, 6, 5] <class 'list'>\n"
     ]
    }
   ],
   "source": [
    "tuple_2=(9,8,7,6,5)\n",
    "l=[]\n",
    "for i in tuple_2:\n",
    "    l.append(i)\n",
    "print(l,type(l))    \n",
    "    "
   ]
  },
  {
   "cell_type": "raw",
   "id": "46a343d0",
   "metadata": {},
   "source": [
    "17. How do you distinguish between copy.copy() and copy.deepcopy()?\n",
    "\n",
    "Ans) cope.copy() create reference to original object. If you change copied object - you change the original object, copy.deepcopy() creates new object and does real copying of original object to new one."
   ]
  }
 ],
 "metadata": {
  "kernelspec": {
   "display_name": "Python 3 (ipykernel)",
   "language": "python",
   "name": "python3"
  },
  "language_info": {
   "codemirror_mode": {
    "name": "ipython",
    "version": 3
   },
   "file_extension": ".py",
   "mimetype": "text/x-python",
   "name": "python",
   "nbconvert_exporter": "python",
   "pygments_lexer": "ipython3",
   "version": "3.7.1"
  }
 },
 "nbformat": 4,
 "nbformat_minor": 5
}
