{
 "cells": [
  {
   "cell_type": "raw",
   "id": "01786051",
   "metadata": {},
   "source": [
    "1.What are the two values of the Boolean data type? How do you write them?\n",
    "\n",
    "Ans) True and False, we write them with first letter capital and rest small."
   ]
  },
  {
   "cell_type": "raw",
   "id": "69cf7ebb",
   "metadata": {},
   "source": [
    "2. What are the three different types of Boolean operators?\n",
    "\n",
    "Ans) and , or , not"
   ]
  },
  {
   "cell_type": "raw",
   "id": "b61a9b9d",
   "metadata": {},
   "source": [
    "3. Make a list of each Boolean operator's truth tables (i.e. every possible combination of Boolean\n",
    "values for the operator and what it evaluate ).\n",
    "\n",
    "Ans) For 'and'\n",
    "     True and True  =   True\n",
    "     True and False =   False\n",
    "     False and True =   False\n",
    "     False and False =  False\n",
    "     \n",
    "For 'or' \n",
    "     True and True  =   True\n",
    "     True and False =   True\n",
    "     False and True =   True\n",
    "     False and False =  False\n",
    "     \n",
    "For 'not'\n",
    "     not True  = False\n",
    "     Not False = True"
   ]
  },
  {
   "cell_type": "raw",
   "id": "e88ed1ca",
   "metadata": {},
   "source": [
    "4. What are the values of the following expressions?\n",
    "\n",
    "Ans):\n",
    "     (5 > 4) and (3 == 5)             =    False\n",
    "     not (5 > 4)                      =    False\n",
    "     (5 > 4) or (3 == 5)              =    True\n",
    "     not ((5 > 4) or (3 == 5))        =    False\n",
    "     (True and True) and (True == False)    =   False\n",
    "     (not False) or (not True)              =   True"
   ]
  },
  {
   "cell_type": "raw",
   "id": "0de9d1dd",
   "metadata": {},
   "source": [
    "5. What are the six comparison operators?\n",
    "\n",
    "Ans) greater then            (>)\n",
    "     greater and equals to   (>=)\n",
    "     smaller then            (<)\n",
    "     smaller and equals to   (<=)\n",
    "     equals to               (==)\n",
    "     not equals to           (!=) \n",
    "     "
   ]
  },
  {
   "cell_type": "raw",
   "id": "3df83d18",
   "metadata": {},
   "source": [
    "6. How do you tell the difference between the equal to and assignment operators?Describe a\n",
    "condition and when you would use one.\n",
    "\n",
    "Ans)Equal to is a comparison operator which is use to compare the LHS and RHS, while assignment operators are use to assign the value to left hand side variable.\n",
    "\n",
    "    a=10,  assigning value 10 to variable a\n",
    "    5>2  , here we are comparing 2 values."
   ]
  },
  {
   "cell_type": "raw",
   "id": "00d61851",
   "metadata": {},
   "source": [
    "7. Identify the three blocks in this code:\n",
    "spam = 0\n",
    "if spam == 10:\n",
    "   print('eggs')\n",
    "if spam > 5:\n",
    "   print('bacon')\n",
    "else:\n",
    "   print('ham')\n",
    "   print('spam')\n",
    "   print('spam')\n",
    "   \n",
    "Ans) FIRST block: (if block)\n",
    "                       if spam == 10:\n",
    "                           print('eggs')\n",
    "     SECOND block: (if block)\n",
    "                       if spam > 5:\n",
    "                           print('bacon')\n",
    "     THIRD block:  (else block)\n",
    "                       else:\n",
    "                           print('ham')\n",
    "                           print('spam')\n",
    "                           print('spam')"
   ]
  },
  {
   "cell_type": "raw",
   "id": "2645acd8",
   "metadata": {},
   "source": [
    "8. Write code that prints Hello if 1 is stored in spam, prints Howdy if 2 is stored in spam, and prints\n",
    "Greetings! if anything else is stored in spam."
   ]
  },
  {
   "cell_type": "code",
   "execution_count": 11,
   "id": "c0852f48",
   "metadata": {},
   "outputs": [
    {
     "name": "stdout",
     "output_type": "stream",
     "text": [
      "1\n",
      "hello\n"
     ]
    }
   ],
   "source": [
    "spam=int(input())\n",
    "if spam==1:\n",
    "    print('hello')\n",
    "elif spam ==2:\n",
    "    print('Howdy')\n",
    "else:\n",
    "    print('Greeting!')"
   ]
  },
  {
   "cell_type": "raw",
   "id": "f2646429",
   "metadata": {},
   "source": [
    "9.If your programme is stuck in an endless loop, what keys you’ll press?\n",
    "\n",
    "Ans) press CTRL + C , Save the program and run it."
   ]
  },
  {
   "cell_type": "raw",
   "id": "0e3fb8fd",
   "metadata": {},
   "source": [
    "10. How can you tell the difference between break and continue?\n",
    "\n",
    "Ans) The break is a keyword in python which is used to bring the program control out of the loop.\n",
    "     The continue keyword return control of the iteration to the beginning of the loop."
   ]
  },
  {
   "cell_type": "raw",
   "id": "71d7beff",
   "metadata": {},
   "source": [
    "11. In a for loop, what is the difference between range(10), range(0, 10), and range(0, 10, 1)?\n",
    "\n",
    "Ans) There is no difference in the above 3 ranges, As by default range start from 0 if you don't decide the start step in range, and by default there is a 1 jump per iterator in range untill you didn't change it."
   ]
  },
  {
   "cell_type": "raw",
   "id": "2c55ef61",
   "metadata": {},
   "source": [
    "12. Write a short program that prints the numbers 1 to 10 using a for loop. Then write an equivalent\n",
    "program that prints the numbers 1 to 10 using a while loop."
   ]
  },
  {
   "cell_type": "code",
   "execution_count": 12,
   "id": "8b8c9fbb",
   "metadata": {},
   "outputs": [
    {
     "name": "stdout",
     "output_type": "stream",
     "text": [
      "1\n",
      "2\n",
      "3\n",
      "4\n",
      "5\n",
      "6\n",
      "7\n",
      "8\n",
      "9\n",
      "10\n"
     ]
    }
   ],
   "source": [
    "for i in range(1,11):\n",
    "    print(i)    "
   ]
  },
  {
   "cell_type": "code",
   "execution_count": 14,
   "id": "0f261ca1",
   "metadata": {},
   "outputs": [
    {
     "name": "stdout",
     "output_type": "stream",
     "text": [
      "1\n",
      "2\n",
      "3\n",
      "4\n",
      "5\n",
      "6\n",
      "7\n",
      "8\n",
      "9\n",
      "10\n"
     ]
    }
   ],
   "source": [
    "i=1\n",
    "while i<11:\n",
    "    print(i)\n",
    "    i=i+1"
   ]
  },
  {
   "cell_type": "raw",
   "id": "efc72338",
   "metadata": {},
   "source": [
    "13. If you had a function named bacon() inside a module named spam, how would you call it after\n",
    "importing spam?\n",
    "\n",
    "Ans) This function can be called with spam.bacon()."
   ]
  }
 ],
 "metadata": {
  "kernelspec": {
   "display_name": "Python 3 (ipykernel)",
   "language": "python",
   "name": "python3"
  },
  "language_info": {
   "codemirror_mode": {
    "name": "ipython",
    "version": 3
   },
   "file_extension": ".py",
   "mimetype": "text/x-python",
   "name": "python",
   "nbconvert_exporter": "python",
   "pygments_lexer": "ipython3",
   "version": "3.7.1"
  }
 },
 "nbformat": 4,
 "nbformat_minor": 5
}
