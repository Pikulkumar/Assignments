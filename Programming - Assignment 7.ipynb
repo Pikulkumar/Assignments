{
 "cells": [
  {
   "cell_type": "code",
   "execution_count": 1,
   "id": "74fa2062",
   "metadata": {},
   "outputs": [
    {
     "data": {
      "text/plain": [
       "24"
      ]
     },
     "execution_count": 1,
     "metadata": {},
     "output_type": "execute_result"
    }
   ],
   "source": [
    "#1. Write a Python Program to find sum of array?\n",
    "\n",
    "array = [1,2,3,5,6,7]\n",
    "\n",
    "sum(array)"
   ]
  },
  {
   "cell_type": "code",
   "execution_count": 2,
   "id": "c05fbef4",
   "metadata": {},
   "outputs": [
    {
     "data": {
      "text/plain": [
       "100"
      ]
     },
     "execution_count": 2,
     "metadata": {},
     "output_type": "execute_result"
    }
   ],
   "source": [
    "#2. Write a Python Program to find largest element in an array?\n",
    "\n",
    "array= [5,6,7,8,9,100]\n",
    "\n",
    "max(array)"
   ]
  },
  {
   "cell_type": "code",
   "execution_count": 4,
   "id": "e729b498",
   "metadata": {},
   "outputs": [
    {
     "data": {
      "text/plain": [
       "[3, 5, 6, 7, 8, 9, 1, 2]"
      ]
     },
     "execution_count": 4,
     "metadata": {},
     "output_type": "execute_result"
    }
   ],
   "source": [
    "#3. Write a Python Program for array rotation?\n",
    "\n",
    "def array_rotate(arr,d):\n",
    "    temp=[]\n",
    "    n=len(arr)\n",
    "    for i in range(d,n):\n",
    "        temp.append(arr[i])\n",
    "    for j in range(0,d):\n",
    "        temp.append(arr[j])\n",
    "    a=temp.copy()    \n",
    "    return a\n",
    "arr=[1,2,3,5,6,7,8,9]\n",
    "array_rotate(arr,2)"
   ]
  },
  {
   "cell_type": "code",
   "execution_count": 5,
   "id": "37a987fc",
   "metadata": {},
   "outputs": [
    {
     "name": "stdout",
     "output_type": "stream",
     "text": [
      "5 6 52 36 12 10 "
     ]
    }
   ],
   "source": [
    "#4. Write a Python Program to Split the array and add the first part to the end?\n",
    "\n",
    "def splitArr(a, n, k):\n",
    "    b = a[:k]\n",
    "    return (a[k::]+b[::])\n",
    " \n",
    "arr = [12, 10, 5, 6, 52, 36]\n",
    "n = len(arr)\n",
    "position = 2\n",
    "arr = splitArr(arr, n, position)\n",
    "for i in range(0, n):\n",
    "    print(arr[i], end=' ')"
   ]
  },
  {
   "cell_type": "code",
   "execution_count": 7,
   "id": "312279d4",
   "metadata": {},
   "outputs": [
    {
     "name": "stdout",
     "output_type": "stream",
     "text": [
      "Is Monotonic ?:  True\n",
      "Is Monotonic ?:  False\n",
      "Is Monotonic ?:  True\n"
     ]
    }
   ],
   "source": [
    "#5. Write a Python Program to check if given array is Monotonic?\n",
    "\n",
    "def check_monotonic(array):\n",
    "    return (\n",
    "        # First check for decreasing order sequence...\n",
    "        all(element <= array[index - 1] for index, element in enumerate(array) if index > 0) or\n",
    "        # Then check for increasing order sequence...\n",
    "        all(element >= array[index - 1] for index, element in enumerate(array) if index > 0)\n",
    "    )\n",
    " \n",
    "print(\"Is Monotonic ?: \", check_monotonic([7, 5, 3, 1]))\n",
    "print(\"Is Monotonic ?: \", check_monotonic([4, 0, 3, 1]))\n",
    "print(\"Is Monotonic ?: \", check_monotonic([5, 4, 3]))"
   ]
  },
  {
   "cell_type": "code",
   "execution_count": null,
   "id": "c4e6dbe5",
   "metadata": {},
   "outputs": [],
   "source": []
  }
 ],
 "metadata": {
  "kernelspec": {
   "display_name": "Python 3 (ipykernel)",
   "language": "python",
   "name": "python3"
  },
  "language_info": {
   "codemirror_mode": {
    "name": "ipython",
    "version": 3
   },
   "file_extension": ".py",
   "mimetype": "text/x-python",
   "name": "python",
   "nbconvert_exporter": "python",
   "pygments_lexer": "ipython3",
   "version": "3.7.1"
  }
 },
 "nbformat": 4,
 "nbformat_minor": 5
}
