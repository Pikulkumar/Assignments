{
 "cells": [
  {
   "cell_type": "code",
   "execution_count": 2,
   "id": "ef84d24a",
   "metadata": {},
   "outputs": [
    {
     "name": "stdout",
     "output_type": "stream",
     "text": [
      "Enter the number : 10\n",
      "3628800\n"
     ]
    }
   ],
   "source": [
    "#1. Write a Python Program to Find the Factorial of a Number?\n",
    "\n",
    "num= int(input(\"Enter the number : \"))\n",
    "i=num\n",
    "fac=1\n",
    "while i>=1:\n",
    "    fac=fac*i\n",
    "    i=i-1\n",
    "print(fac)    \n",
    "    "
   ]
  },
  {
   "cell_type": "code",
   "execution_count": 4,
   "id": "cdc5c157",
   "metadata": {},
   "outputs": [
    {
     "name": "stdout",
     "output_type": "stream",
     "text": [
      "Enter the number to find the table : 10\n",
      "10 * 1     = 10\n",
      "10 * 2     = 20\n",
      "10 * 3     = 30\n",
      "10 * 4     = 40\n",
      "10 * 5     = 50\n",
      "10 * 6     = 60\n",
      "10 * 7     = 70\n",
      "10 * 8     = 80\n",
      "10 * 9     = 90\n",
      "10 * 10     = 100\n"
     ]
    }
   ],
   "source": [
    "#2. Write a Python Program to Display the multiplication Table?\n",
    "\n",
    "num=int(input(\"Enter the number to find the table : \"))\n",
    "for i in range(1,11):\n",
    "    print(\"{} * {}     = {}\".format(num,i,num*i))"
   ]
  },
  {
   "cell_type": "code",
   "execution_count": 3,
   "id": "546cb214",
   "metadata": {},
   "outputs": [
    {
     "name": "stdout",
     "output_type": "stream",
     "text": [
      "Enter the place to find fib series : 9\n",
      "0 1 1 2 3 5 8 13 21 "
     ]
    }
   ],
   "source": [
    "#3. Write a Python Program to Print the Fibonacci sequence?\n",
    "\n",
    "num=int(input(\"Enter the place to find fib series : \"))\n",
    "a=0\n",
    "b=1\n",
    "for i in range(1,num+1):\n",
    "    print(a, end=\" \")\n",
    "    n=a+b\n",
    "    a=b\n",
    "    b=n"
   ]
  },
  {
   "cell_type": "code",
   "execution_count": 15,
   "id": "a4f2a261",
   "metadata": {},
   "outputs": [],
   "source": [
    "#4. Write a Python Program to Check Armstrong Number?\n",
    "\n",
    "def check_armstrong(num):\n",
    "    num_str=str(num)\n",
    "    n=len(num_str)\n",
    "    sum=0\n",
    "    for i in num_str:\n",
    "        sum=sum+int(i)**n\n",
    "    if sum==num:\n",
    "        return True\n",
    "    else:\n",
    "        return False\n",
    "    "
   ]
  },
  {
   "cell_type": "code",
   "execution_count": 17,
   "id": "aeb8356c",
   "metadata": {},
   "outputs": [
    {
     "data": {
      "text/plain": [
       "True"
      ]
     },
     "execution_count": 17,
     "metadata": {},
     "output_type": "execute_result"
    }
   ],
   "source": [
    "check_armstrong(153)"
   ]
  },
  {
   "cell_type": "code",
   "execution_count": 19,
   "id": "6c0fa9c8",
   "metadata": {},
   "outputs": [
    {
     "name": "stdout",
     "output_type": "stream",
     "text": [
      "Enter the 1st value of interval: 111\n",
      "Enter the last value of internal: 9999\n",
      "153\n",
      "370\n",
      "371\n",
      "407\n",
      "1634\n",
      "8208\n",
      "9474\n"
     ]
    }
   ],
   "source": [
    "#5. Write a Python Program to Find Armstrong Number in an Interval?\n",
    "\n",
    "num1=int(input(\"Enter the 1st value of interval: \"))\n",
    "num2=int(input(\"Enter the last value of internal: \"))\n",
    "for i in range(num1,num2+1):\n",
    "    i_str=str(i)\n",
    "    n=len(i_str)\n",
    "    sum=0\n",
    "    for j in i_str:\n",
    "        sum=sum+int(j)**n\n",
    "    if sum == i:\n",
    "        print(i)"
   ]
  },
  {
   "cell_type": "code",
   "execution_count": 20,
   "id": "13829269",
   "metadata": {},
   "outputs": [
    {
     "name": "stdout",
     "output_type": "stream",
     "text": [
      "Enter the last natural number to find the sum : 20\n",
      "210\n"
     ]
    }
   ],
   "source": [
    "#6. Write a Python Program to Find the Sum of Natural Numbers?\n",
    "\n",
    "num=int(input(\"Enter the last natural number to find the sum : \"))\n",
    "sum=0\n",
    "if num<0:\n",
    "    print(\"Enter the positive number\")\n",
    "else:\n",
    "    for i in range(1,num+1):\n",
    "        sum=sum+i\n",
    "print(sum)        "
   ]
  },
  {
   "cell_type": "code",
   "execution_count": null,
   "id": "ee345d8b",
   "metadata": {},
   "outputs": [],
   "source": []
  }
 ],
 "metadata": {
  "kernelspec": {
   "display_name": "Python 3 (ipykernel)",
   "language": "python",
   "name": "python3"
  },
  "language_info": {
   "codemirror_mode": {
    "name": "ipython",
    "version": 3
   },
   "file_extension": ".py",
   "mimetype": "text/x-python",
   "name": "python",
   "nbconvert_exporter": "python",
   "pygments_lexer": "ipython3",
   "version": "3.7.1"
  }
 },
 "nbformat": 4,
 "nbformat_minor": 5
}
