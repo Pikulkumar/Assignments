{
 "cells": [
  {
   "cell_type": "raw",
   "id": "f5d63d44",
   "metadata": {},
   "source": [
    "1. In the below elements which of them are values or an expression? eg:- values can be\n",
    "integer or string and expressions will be mathematical operators.\n",
    "*\n",
    "'hello'\n",
    "-87.8\n",
    "-\n",
    "/\n",
    "+\n",
    "6\n",
    "\n",
    "Ans)VALUES           ->  ('hello',-87.8,6)\n",
    "    Expressions      ->  (*,-,/,+)\n"
   ]
  },
  {
   "cell_type": "raw",
   "id": "6ef1e684",
   "metadata": {},
   "source": [
    "2. What is the difference between string and variable?\n",
    "\n",
    "Ans)String is a data type which can be written in words under \" \", whereas Variable is a symbol which is use to store the data type.\n",
    "    Example:\n",
    "        X= \"Pikul\"\n",
    "        here X is a variable and \"Pikul\" is a String"
   ]
  },
  {
   "cell_type": "raw",
   "id": "4c69cd02",
   "metadata": {},
   "source": [
    "3. Describe three different data types.\n",
    "\n",
    "Ans) BOOLEAN -    It has 2 in-build values TRUE and FALSE,  These values are use to determine the statement is True or False.\n",
    "     Dictionary - It is a data type where each key store a specific value,items in dict are enclosed in the curly braces {}.\n",
    "     LIST       - It contain data of different types. The items stored in the list are separated with a comma (,) and enclosed within square brackets []."
   ]
  },
  {
   "cell_type": "raw",
   "id": "c484319e",
   "metadata": {},
   "source": [
    "4. What is an expression made up of? What do all expressions do?\n",
    "\n",
    "Ans) Expression is a combination of values, variables and operators.\n",
    "     It gives a result after evaluation."
   ]
  },
  {
   "cell_type": "raw",
   "id": "7ecb29c7",
   "metadata": {},
   "source": [
    "5. This assignment statements, like spam = 10. What is the difference between an\n",
    "expression and a statement?\n",
    "\n",
    "Ans)Statement directly states the result like spam =10, here no evaluation is required to display the result.\n",
    "    However is expressions we have to evaluate the combinations of values, operators and variables to display the result."
   ]
  },
  {
   "cell_type": "raw",
   "id": "cb607bca",
   "metadata": {},
   "source": [
    "6. After running the following code, what does the variable bacon contain?\n",
    "bacon = 22\n",
    "bacon + 1\n",
    "\n",
    "Ans) 22"
   ]
  },
  {
   "cell_type": "raw",
   "id": "a15af638",
   "metadata": {},
   "source": [
    "7. What should the values of the following two terms be?\n",
    "'spam' + 'spamspam'\n",
    "'spam' * 3\n",
    "\n",
    "Ans)  'spam' + 'spamspam'  ='spamspamspam'\n",
    "      'spam' *3           = 'spamspamspam'"
   ]
  },
  {
   "cell_type": "raw",
   "id": "709a0a55",
   "metadata": {},
   "source": [
    "8. Why is eggs a valid variable name while 100 is invalid?\n",
    "\n",
    "Ans) eggs doesn't enclosed in single or double quotes (\" \"), hence its not a STRING,so we can consider it as a valid variable,\n",
    "     However 100 is an integer which is a data type so its not a valid variable."
   ]
  },
  {
   "cell_type": "raw",
   "id": "e7e9e7cc",
   "metadata": {},
   "source": [
    "9. What three functions can be used to get the integer, floating-point number, or string\n",
    "version of a value?\n",
    "\n",
    "Ans)integer                -  int()\n",
    "    string                 -  str()\n",
    "    floating-point number  - float()"
   ]
  },
  {
   "cell_type": "raw",
   "id": "3cf54f90",
   "metadata": {},
   "source": [
    "10. Why does this expression cause an error? How can you fix it?\n",
    "    'I have eaten ' + 99 + 'burritos'\n",
    "    \n",
    "Ans) Because string can't be concatenate with the Integers. \n",
    "     We can fix the expression by putting 99 under single quotes or by using str function so that 99 would be converted in string.\n",
    "     \n",
    "     'I have eaten ' + str(99) + 'burritos'"
   ]
  }
 ],
 "metadata": {
  "kernelspec": {
   "display_name": "Python 3 (ipykernel)",
   "language": "python",
   "name": "python3"
  },
  "language_info": {
   "codemirror_mode": {
    "name": "ipython",
    "version": 3
   },
   "file_extension": ".py",
   "mimetype": "text/x-python",
   "name": "python",
   "nbconvert_exporter": "python",
   "pygments_lexer": "ipython3",
   "version": "3.7.1"
  }
 },
 "nbformat": 4,
 "nbformat_minor": 5
}
