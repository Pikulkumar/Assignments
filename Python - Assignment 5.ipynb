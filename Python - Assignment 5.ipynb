{
 "cells": [
  {
   "cell_type": "raw",
   "id": "1e243826",
   "metadata": {},
   "source": [
    "1. What does an empty dictionary's code look like?\n",
    "\n",
    "Ans) Dict = {}"
   ]
  },
  {
   "cell_type": "raw",
   "id": "0f959077",
   "metadata": {},
   "source": [
    "2. What is the value of a dictionary value with the key 'foo' and the value 42?\n"
   ]
  },
  {
   "cell_type": "code",
   "execution_count": 3,
   "id": "8a58c7a1",
   "metadata": {},
   "outputs": [
    {
     "data": {
      "text/plain": [
       "dict_values([42])"
      ]
     },
     "execution_count": 3,
     "metadata": {},
     "output_type": "execute_result"
    }
   ],
   "source": [
    "dict = {'foo':42}\n",
    "dict.values()"
   ]
  },
  {
   "cell_type": "raw",
   "id": "cb9711a3",
   "metadata": {},
   "source": [
    "3. What is the most significant distinction between a dictionary and a list?\n",
    "\n",
    "Ans) In dictionary there is a key associated with every value, while in list there is not key associated with value.\n",
    "     Values in list is enclosed with [] while in dictionary {}."
   ]
  },
  {
   "cell_type": "raw",
   "id": "ffb94c4d",
   "metadata": {},
   "source": [
    "4. What happens if you try to access spam['foo'] if spam is {'bar': 100}?\n",
    "\n",
    "Ans) It will give a KeyError as there is no key 'foo' in the dictionary spam."
   ]
  },
  {
   "cell_type": "raw",
   "id": "96c11104",
   "metadata": {},
   "source": [
    "5. If a dictionary is stored in spam, what is the difference between the expressions 'cat' in spam and\n",
    "'cat' in spam.keys()?\n",
    "\n",
    "Ans)'cat' in spam means it can b either key or value in the dictionary spam.\n",
    "     while 'cat' in spam.keys() clearly describing that its a key in the dictionary spam."
   ]
  },
  {
   "cell_type": "raw",
   "id": "219398a2",
   "metadata": {},
   "source": [
    "6. If a dictionary is stored in spam, what is the difference between the expressions 'cat' in spam and\n",
    "'cat' in spam.values()?\n",
    "\n",
    "Ans) 'cat' in spam means it can b either key or value in the dictionary spam.\n",
    "     while 'cat' in spam.keys() clearly describing that its a value of any key in the dictionary spam."
   ]
  },
  {
   "cell_type": "raw",
   "id": "326e7221",
   "metadata": {},
   "source": [
    "7. What is a shortcut for the following code?\n",
    "if 'color' not in spam:\n",
    "spam['color'] = 'black'\n",
    "\n",
    "Ans) spam = {'color': 'black'}"
   ]
  },
  {
   "cell_type": "code",
   "execution_count": null,
   "id": "20c6b047",
   "metadata": {},
   "outputs": [],
   "source": []
  }
 ],
 "metadata": {
  "kernelspec": {
   "display_name": "Python 3 (ipykernel)",
   "language": "python",
   "name": "python3"
  },
  "language_info": {
   "codemirror_mode": {
    "name": "ipython",
    "version": 3
   },
   "file_extension": ".py",
   "mimetype": "text/x-python",
   "name": "python",
   "nbconvert_exporter": "python",
   "pygments_lexer": "ipython3",
   "version": "3.7.1"
  }
 },
 "nbformat": 4,
 "nbformat_minor": 5
}
