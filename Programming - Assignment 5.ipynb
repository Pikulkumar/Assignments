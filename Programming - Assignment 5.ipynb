{
 "cells": [
  {
   "cell_type": "code",
   "execution_count": 2,
   "id": "50106adc",
   "metadata": {},
   "outputs": [
    {
     "name": "stdout",
     "output_type": "stream",
     "text": [
      "Enter the first number to find LCM : 15\n",
      "Enter the second number to find the LCM : 25\n",
      "LCM is : 75\n"
     ]
    }
   ],
   "source": [
    "#1. Write a Python Program to Find LCM?\n",
    "\n",
    "a=int(input(\"Enter the first number to find LCM : \"))\n",
    "b=int(input(\"Enter the second number to find the LCM : \"))\n",
    "for i in range(1,a*b+1):\n",
    "    if i%a==0 and i%b==0:\n",
    "        print(\"LCM is :\",i)\n",
    "        break"
   ]
  },
  {
   "cell_type": "code",
   "execution_count": 5,
   "id": "3d8f1807",
   "metadata": {},
   "outputs": [
    {
     "name": "stdout",
     "output_type": "stream",
     "text": [
      "Enter the first number to find the HCF : 25\n",
      "Enter the second number to find the HCF : 15\n",
      "HCF is :  5\n"
     ]
    }
   ],
   "source": [
    "#2. Write a Python Program to Find HCF?\n",
    "\n",
    "a=int(input(\"Enter the first number to find the HCF : \"))\n",
    "b=int(input(\"Enter the second number to find the HCF : \"))\n",
    "while a%b !=0:\n",
    "    remainder=a%b\n",
    "    a=b\n",
    "    b=remainder\n",
    "print(\"HCF is : \",b)    "
   ]
  },
  {
   "cell_type": "code",
   "execution_count": 10,
   "id": "8ef7b249",
   "metadata": {},
   "outputs": [
    {
     "name": "stdout",
     "output_type": "stream",
     "text": [
      "Enter the decimal value : 28\n",
      "Convert into [1] Binary,[2] Octal,[3] Hexadecimal : \n",
      "1\n",
      "convert to binary is :  0b11100\n"
     ]
    }
   ],
   "source": [
    "#3. Write a Python Program to Convert Decimal to Binary, Octal and Hexadecimal?\n",
    "\n",
    "decimal=int(input(\"Enter the decimal value : \"))\n",
    "convert=int(input(\"Convert into [1] Binary,[2] Octal,[3] Hexadecimal : \\n\"))\n",
    "\n",
    "if convert==1:\n",
    "    print(\"convert to binary is : \",bin(decimal))\n",
    "elif convert==2:\n",
    "    print(\"convert to octal is : \",oct(decimal))\n",
    "elif convert==3:\n",
    "    print(\"convert to Hexadecimal is : \",hex(decimal))"
   ]
  },
  {
   "cell_type": "code",
   "execution_count": 11,
   "id": "ab8a279f",
   "metadata": {},
   "outputs": [
    {
     "name": "stdout",
     "output_type": "stream",
     "text": [
      "Enter any character : u\n",
      "117\n"
     ]
    }
   ],
   "source": [
    "#4. Write a Python Program To Find ASCII value of a character?\n",
    "\n",
    "character = input(\"Enter any character : \")\n",
    "a=ord(character)\n",
    "print(a)"
   ]
  },
  {
   "cell_type": "code",
   "execution_count": 16,
   "id": "dc748fa6",
   "metadata": {},
   "outputs": [
    {
     "name": "stdout",
     "output_type": "stream",
     "text": [
      "Enter the first value : 10\n",
      "Enter the second value : 20\n",
      "find the [1] Addition,[2] Substraction,[3] Multiplication, [4] Division : \n",
      "1\n",
      "Addition is :  30\n"
     ]
    }
   ],
   "source": [
    "#5. Write a Python Program to Make a Simple Calculator with 4 basic mathematical operations?\n",
    "\n",
    "a=int(input(\"Enter the first value : \"))\n",
    "b=int(input(\"Enter the second value : \"))\n",
    "find=int(input(\"find the [1] Addition,[2] Substraction,[3] Multiplication, [4] Division : \\n\"))\n",
    "\n",
    "if find==1:\n",
    "    print(\"Addition is : \",a+b)\n",
    "elif find ==2:\n",
    "    print(\"Substraction is : \",a-b)\n",
    "elif find ==3:\n",
    "    print(\"Multiplication is : \",a*b)\n",
    "elif find==4:\n",
    "    print(\"Division is : \",a/b)"
   ]
  },
  {
   "cell_type": "code",
   "execution_count": null,
   "id": "492b669e",
   "metadata": {},
   "outputs": [],
   "source": []
  }
 ],
 "metadata": {
  "kernelspec": {
   "display_name": "Python 3 (ipykernel)",
   "language": "python",
   "name": "python3"
  },
  "language_info": {
   "codemirror_mode": {
    "name": "ipython",
    "version": 3
   },
   "file_extension": ".py",
   "mimetype": "text/x-python",
   "name": "python",
   "nbconvert_exporter": "python",
   "pygments_lexer": "ipython3",
   "version": "3.7.1"
  }
 },
 "nbformat": 4,
 "nbformat_minor": 5
}
