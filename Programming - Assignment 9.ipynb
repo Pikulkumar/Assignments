{
 "cells": [
  {
   "cell_type": "code",
   "execution_count": 4,
   "id": "7da3bd3b",
   "metadata": {},
   "outputs": [
    {
     "name": "stdout",
     "output_type": "stream",
     "text": [
      "Enter any number : 135\n",
      "Its a Disarium number\n"
     ]
    }
   ],
   "source": [
    "#1. Write a Python program to check if the given number is a Disarium Number?\n",
    "\n",
    "num=int(input(\"Enter any number : \"))\n",
    "sum=0\n",
    "j=1\n",
    "for i in str(num):\n",
    "    sum=sum+int(i)**j\n",
    "    j=j+1\n",
    "if sum==num:\n",
    "    print(\"Its a Disarium number\")\n",
    "else:\n",
    "    print(\"Not a Disarium number\")"
   ]
  },
  {
   "cell_type": "code",
   "execution_count": 5,
   "id": "849073cd",
   "metadata": {},
   "outputs": [
    {
     "name": "stdout",
     "output_type": "stream",
     "text": [
      "1\n",
      "2\n",
      "3\n",
      "4\n",
      "5\n",
      "6\n",
      "7\n",
      "8\n",
      "9\n",
      "89\n"
     ]
    }
   ],
   "source": [
    "#2. Write a Python program to print all disarium numbers between 1 to 100?\n",
    "\n",
    "for num in range(1,101):\n",
    "    sum=0\n",
    "    j=1\n",
    "    for i in str(num):\n",
    "        sum=sum+int(i)**j\n",
    "        j=j+1\n",
    "    if sum==num:\n",
    "        print(num)\n",
    "    "
   ]
  },
  {
   "cell_type": "code",
   "execution_count": 7,
   "id": "39f5b5e7",
   "metadata": {},
   "outputs": [
    {
     "name": "stdout",
     "output_type": "stream",
     "text": [
      "Enter any number : 13\n",
      "Its a Happy Number\n"
     ]
    }
   ],
   "source": [
    "#3. Write a Python program to check if the given number is Happy Number?\n",
    "\n",
    "num=int(input(\"Enter any number : \"))\n",
    "sum=0\n",
    "j=1\n",
    "for i in str(num):\n",
    "    sum=sum+int(i)**j\n",
    "    j=j+1\n",
    "sum1=0\n",
    "a=1\n",
    "for k in str(sum):\n",
    "    sum1=sum1+int(k)**a\n",
    "    a=a+1\n",
    "if sum1==1:\n",
    "    print(\"Its a Happy Number\")\n",
    "else:\n",
    "    print(\"Its not a Happy Number\")\n",
    "    "
   ]
  },
  {
   "cell_type": "code",
   "execution_count": 8,
   "id": "ac60e9f1",
   "metadata": {},
   "outputs": [
    {
     "name": "stdout",
     "output_type": "stream",
     "text": [
      "1\n",
      "10\n",
      "13\n",
      "62\n",
      "91\n",
      "100\n"
     ]
    }
   ],
   "source": [
    "#4. Write a Python program to print all happy numbers between 1 and 100?\n",
    "\n",
    "for num in range(1,101):\n",
    "    sum=0\n",
    "    j=1\n",
    "    for i in str(num):\n",
    "        sum=sum+int(i)**j\n",
    "        j=j+1\n",
    "    sum1=0\n",
    "    a=1\n",
    "    for k in str(sum):\n",
    "        sum1=sum1+int(k)**a\n",
    "        a=a+1\n",
    "    if sum1==1:\n",
    "        print(num)\n",
    "    "
   ]
  },
  {
   "cell_type": "code",
   "execution_count": 11,
   "id": "1006d02d",
   "metadata": {},
   "outputs": [
    {
     "name": "stdout",
     "output_type": "stream",
     "text": [
      "Enter the number : 12\n",
      "Its a Harshad Number\n"
     ]
    }
   ],
   "source": [
    "#5. Write a Python program to determine whether the given number is a Harshad Number?\n",
    "\n",
    "num=int(input(\"Enter the number : \"))\n",
    "sum=0\n",
    "for i in str(num):\n",
    "    sum=sum+int(i)\n",
    "if num%sum==0:\n",
    "    print(\"Its a Harshad Number\")\n",
    "else:\n",
    "    print(\"Not a Harshad Number\")"
   ]
  },
  {
   "cell_type": "code",
   "execution_count": 12,
   "id": "42b5e8d4",
   "metadata": {},
   "outputs": [
    {
     "name": "stdout",
     "output_type": "stream",
     "text": [
      "1\n",
      "2\n",
      "3\n",
      "4\n",
      "5\n",
      "6\n",
      "7\n",
      "8\n",
      "9\n",
      "10\n",
      "12\n",
      "18\n",
      "20\n",
      "21\n",
      "24\n",
      "27\n",
      "30\n",
      "36\n",
      "40\n",
      "42\n",
      "45\n",
      "48\n",
      "50\n",
      "54\n",
      "60\n",
      "63\n",
      "70\n",
      "72\n",
      "80\n",
      "81\n",
      "84\n",
      "90\n",
      "100\n"
     ]
    }
   ],
   "source": [
    "#6. Write a Python program to print all pronic numbers between 1 and 100?\n",
    "\n",
    "for num in range(1,101):\n",
    "    sum=0\n",
    "    for i in str(num):\n",
    "        sum=sum+int(i)\n",
    "    if num%sum==0:\n",
    "        print(num)\n",
    "    "
   ]
  },
  {
   "cell_type": "code",
   "execution_count": null,
   "id": "c254300e",
   "metadata": {},
   "outputs": [],
   "source": []
  }
 ],
 "metadata": {
  "kernelspec": {
   "display_name": "Python 3 (ipykernel)",
   "language": "python",
   "name": "python3"
  },
  "language_info": {
   "codemirror_mode": {
    "name": "ipython",
    "version": 3
   },
   "file_extension": ".py",
   "mimetype": "text/x-python",
   "name": "python",
   "nbconvert_exporter": "python",
   "pygments_lexer": "ipython3",
   "version": "3.7.1"
  }
 },
 "nbformat": 4,
 "nbformat_minor": 5
}
