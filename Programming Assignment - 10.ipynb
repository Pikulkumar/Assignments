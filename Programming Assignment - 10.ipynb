{
 "cells": [
  {
   "cell_type": "code",
   "execution_count": 6,
   "id": "2b9f89ac",
   "metadata": {},
   "outputs": [
    {
     "name": "stdout",
     "output_type": "stream",
     "text": [
      "181.23000000000002\n"
     ]
    }
   ],
   "source": [
    "#1. Write a Python program to find sum of elements in list?\n",
    "list=[22,5,66,'pikul',88.23,22+2j]\n",
    "for i in list:\n",
    "    if type(i)==int or type(i)==float:\n",
    "        sum=sum+i\n",
    "print(sum)        "
   ]
  },
  {
   "cell_type": "code",
   "execution_count": 9,
   "id": "48e17450",
   "metadata": {},
   "outputs": [
    {
     "name": "stdout",
     "output_type": "stream",
     "text": [
      "76.0\n"
     ]
    }
   ],
   "source": [
    "#2. Write a Python program to Multiply all numbers in the list?\n",
    "\n",
    "list=[2,5,1,'pikul',7.6,5+5j]\n",
    "mul=1\n",
    "for i in list:\n",
    "    if type(i)==int or type(i)==float:\n",
    "        mul=mul*i\n",
    "print(mul)        "
   ]
  },
  {
   "cell_type": "code",
   "execution_count": 12,
   "id": "025b2c63",
   "metadata": {},
   "outputs": [
    {
     "data": {
      "text/plain": [
       "2"
      ]
     },
     "execution_count": 12,
     "metadata": {},
     "output_type": "execute_result"
    }
   ],
   "source": [
    "#3. Write a Python program to find smallest number in a list?\n",
    "\n",
    "l=[2,3,5,6,7,8]\n",
    "\n",
    "min(l)"
   ]
  },
  {
   "cell_type": "code",
   "execution_count": 13,
   "id": "308eb5b1",
   "metadata": {},
   "outputs": [
    {
     "data": {
      "text/plain": [
       "8"
      ]
     },
     "execution_count": 13,
     "metadata": {},
     "output_type": "execute_result"
    }
   ],
   "source": [
    "#4. Write a Python program to find largest number in a list?\n",
    "\n",
    "l=[2,3,5,6,7,8]\n",
    "\n",
    "max(l)\n"
   ]
  },
  {
   "cell_type": "code",
   "execution_count": 25,
   "id": "bdc862dd",
   "metadata": {},
   "outputs": [
    {
     "name": "stdout",
     "output_type": "stream",
     "text": [
      " second largest number is :  8\n"
     ]
    }
   ],
   "source": [
    "#5. Write a Python program to find second largest number in a list?\n",
    "\n",
    "l=[2,3,5,11,7,8,4]\n",
    "l.sort()\n",
    "\n",
    "print(\" second largest number is : \",l[-2])"
   ]
  },
  {
   "cell_type": "code",
   "execution_count": 26,
   "id": "33a9f01a",
   "metadata": {},
   "outputs": [
    {
     "name": "stdout",
     "output_type": "stream",
     "text": [
      "first largest number :  9\n",
      "Second largest number :  8\n",
      "third largest number :  7\n",
      "fifth largest number :  5\n"
     ]
    }
   ],
   "source": [
    "#6. Write a Python program to find N largest elements from a list?\n",
    "\n",
    "list=[0,5,4,3,2,1,9,8,7,6]\n",
    "list.sort()\n",
    "print(\"first largest number : \",list[-1])\n",
    "print(\"Second largest number : \",list[-2])\n",
    "print(\"third largest number : \",list[-3])\n",
    "print(\"fifth largest number : \",list[-5])"
   ]
  },
  {
   "cell_type": "code",
   "execution_count": 28,
   "id": "4e848292",
   "metadata": {},
   "outputs": [
    {
     "name": "stdout",
     "output_type": "stream",
     "text": [
      "[2, 6, 88, 22, 32]\n"
     ]
    }
   ],
   "source": [
    "#7. Write a Python program to print even numbers in a list?\n",
    "\n",
    "list=[2,5,6,3,7,9,88,22,32,'pikul','rajput']\n",
    "l=[]\n",
    "for i in list:\n",
    "    if type(i)==int:\n",
    "        if i%2==0:\n",
    "            l.append(i)\n",
    "print(l)        \n",
    "    "
   ]
  },
  {
   "cell_type": "code",
   "execution_count": 29,
   "id": "a23c3b3b",
   "metadata": {},
   "outputs": [
    {
     "name": "stdout",
     "output_type": "stream",
     "text": [
      "[5, 3, 7, 9]\n"
     ]
    }
   ],
   "source": [
    "#8. Write a Python program to print odd numbers in a List?\n",
    "\n",
    "list=[2,5,6,3,7,9,88,22,32,'pikul','rajput']\n",
    "l=[]\n",
    "for i in list:\n",
    "    if type(i)==int:\n",
    "        if i%2!=0:\n",
    "            l.append(i)\n",
    "print(l)"
   ]
  },
  {
   "cell_type": "code",
   "execution_count": 30,
   "id": "a0f797c5",
   "metadata": {},
   "outputs": [
    {
     "name": "stdout",
     "output_type": "stream",
     "text": [
      "[1, 2, 5, 6, 'pikul', 5.5]\n"
     ]
    }
   ],
   "source": [
    "#9. Write a Python program to Remove empty List from List?\n",
    "\n",
    "list=[1,2,[],5,6,[],'pikul',[],5.5]\n",
    "final_list=[]\n",
    "for i in list:\n",
    "    if i!=[]:\n",
    "        final_list.append(i)\n",
    "print(final_list)        "
   ]
  },
  {
   "cell_type": "code",
   "execution_count": 32,
   "id": "bd01a894",
   "metadata": {},
   "outputs": [
    {
     "data": {
      "text/plain": [
       "[6, 3, 7]"
      ]
     },
     "execution_count": 32,
     "metadata": {},
     "output_type": "execute_result"
    }
   ],
   "source": [
    "#10. Write a Python program to Cloning or Copying a list?\n",
    "\n",
    "list=[2,5,6,3,7,9,88,22,32,'pikul','rajput']\n",
    "\n",
    "list_copy=list[2:5].copy()\n",
    "list_copy"
   ]
  },
  {
   "cell_type": "code",
   "execution_count": 35,
   "id": "5141ed0f",
   "metadata": {},
   "outputs": [
    {
     "data": {
      "text/plain": [
       "2"
      ]
     },
     "execution_count": 35,
     "metadata": {},
     "output_type": "execute_result"
    }
   ],
   "source": [
    "#11. Write a Python program to Count occurrences of an element in a list?\n",
    "\n",
    "list=[1,1,2,3,3,5,6,7,8,9,9]\n",
    "def occurrence(x):\n",
    "    count=0\n",
    "    for i in list:\n",
    "        if i==x:\n",
    "            count=count+1\n",
    "    return count        \n",
    "occurrence(1)           "
   ]
  },
  {
   "cell_type": "code",
   "execution_count": null,
   "id": "2fc97a94",
   "metadata": {},
   "outputs": [],
   "source": []
  }
 ],
 "metadata": {
  "kernelspec": {
   "display_name": "Python 3 (ipykernel)",
   "language": "python",
   "name": "python3"
  },
  "language_info": {
   "codemirror_mode": {
    "name": "ipython",
    "version": 3
   },
   "file_extension": ".py",
   "mimetype": "text/x-python",
   "name": "python",
   "nbconvert_exporter": "python",
   "pygments_lexer": "ipython3",
   "version": "3.7.1"
  }
 },
 "nbformat": 4,
 "nbformat_minor": 5
}
