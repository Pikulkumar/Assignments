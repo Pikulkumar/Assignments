{
 "cells": [
  {
   "cell_type": "raw",
   "id": "eb9873b7",
   "metadata": {},
   "source": [
    "1. What are escape characters, and how do you use them?\n",
    "\n",
    "Ans)An illegal character which string doesn't allow to use, we have to escape that character.\n",
    "    An escape character is a backslash \\ followed by the character you want to insert.\n",
    "\n",
    "    Example ->  \"My name is \\\"Pikul\\\" Rajput\""
   ]
  },
  {
   "cell_type": "raw",
   "id": "1c04b3c5",
   "metadata": {},
   "source": [
    "2. What do the escape characters n and t stand for?\n",
    "\n",
    "Ans) New line , tab"
   ]
  },
  {
   "cell_type": "raw",
   "id": "789b8f51",
   "metadata": {},
   "source": [
    "3. What is the way to include backslash characters in a string?\n",
    "\n",
    "Ans)backslash \\ followed by the character you want to insert."
   ]
  },
  {
   "cell_type": "raw",
   "id": "bb4ad962",
   "metadata": {},
   "source": [
    "4. The string \"Howl's Moving Castle\" is a correct value. Why isn't the single quote character in the\n",
    "word Howl's not escaped a problem?\n",
    "\n",
    "Ans) String \"Howl's Moving Castle\" is enclosed under double quotes, and its substring Howl's having just single quote, hence it would not cause any issue because whole string is enclosed under double quotes."
   ]
  },
  {
   "cell_type": "raw",
   "id": "b03dc801",
   "metadata": {},
   "source": [
    "5. How do you write a string of newlines if you don't want to use the n character?\n",
    "\n",
    "Ans) We can enclosed the string under triple quotes (\"\"\" \"\"\"),\n",
    "                  "
   ]
  },
  {
   "cell_type": "code",
   "execution_count": 1,
   "id": "143da04c",
   "metadata": {},
   "outputs": [
    {
     "name": "stdout",
     "output_type": "stream",
     "text": [
      "My name is\n",
      "Pikul Rajput\n"
     ]
    }
   ],
   "source": [
    "#Example\n",
    "string= \"\"\"My name is\n",
    "Pikul Rajput\"\"\"\n",
    "print(string)"
   ]
  },
  {
   "cell_type": "raw",
   "id": "b785f21b",
   "metadata": {},
   "source": [
    "6. What are the values of the given expressions? \n",
    "\n",
    "'Hello, world!'[1]       =   'e'\n",
    "'Hello, world!'[0:5]     =   'Hello'\n",
    "'Hello, world!'[:5]      =   'Hello'\n",
    "'Hello, world!'[3:]      =   'lo, world!'"
   ]
  },
  {
   "cell_type": "raw",
   "id": "0b28edf8",
   "metadata": {},
   "source": [
    "7. What are the values of the following expressions?\n",
    "\n",
    "'Hello'.upper()              =    'HELLO'       \n",
    "'Hello'.upper().isupper()    =     True\n",
    "'Hello'.upper().lower()      =    'hello'"
   ]
  },
  {
   "cell_type": "raw",
   "id": "b300f0f0",
   "metadata": {},
   "source": [
    "8. What are the values of the following expressions?\n",
    "\n",
    "'Remember, remember, the fifth of July.'.split()     =   ['Remember,', 'remember,', 'the', 'fifth', 'of', 'July.']\n",
    "\n",
    "'-'.join('There can only one.'.split())              =    'There-can-only=one.'\n"
   ]
  },
  {
   "cell_type": "raw",
   "id": "05f251cd",
   "metadata": {},
   "source": [
    "9. What are the methods for right-justifying, left-justifying, and centering a string?\n",
    "\n",
    "Ans) right-justifying  -  The rjust() method will right align the string, using a space as the fill character.\n",
    "    left-justifying    -  The ljust() method will left align the string, using a space as the fill character.\n",
    "    centering a string    The center() meathod will center aligns the string according to the width specified and fills remaining space of line with blank space."
   ]
  },
  {
   "cell_type": "raw",
   "id": "5a434b3f",
   "metadata": {},
   "source": [
    "10. What is the best way to remove whitespace characters from the start or end?\n",
    "\n",
    "Ans) Use the .strip() method to remove whitespace and characters from the start and the end of a string."
   ]
  }
 ],
 "metadata": {
  "kernelspec": {
   "display_name": "Python 3 (ipykernel)",
   "language": "python",
   "name": "python3"
  },
  "language_info": {
   "codemirror_mode": {
    "name": "ipython",
    "version": 3
   },
   "file_extension": ".py",
   "mimetype": "text/x-python",
   "name": "python",
   "nbconvert_exporter": "python",
   "pygments_lexer": "ipython3",
   "version": "3.7.1"
  }
 },
 "nbformat": 4,
 "nbformat_minor": 5
}
