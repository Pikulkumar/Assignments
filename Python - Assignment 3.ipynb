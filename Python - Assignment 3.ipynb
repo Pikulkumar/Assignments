{
 "cells": [
  {
   "cell_type": "raw",
   "id": "f6e2af6a",
   "metadata": {},
   "source": [
    "1. Why are functions advantageous to have in your programs?\n",
    "\n",
    "Ans)The main advantage of function is the code re-usability, wecan use the block of code many times without writing it again by fuction calling, Hence program become short and simple."
   ]
  },
  {
   "cell_type": "raw",
   "id": "96ae01d7",
   "metadata": {},
   "source": [
    "2. When does the code in a function run: when it's specified or when it's called?\n",
    "\n",
    "Ans)Firstly we have to define a function name using keyword 'def', under that code written runs in a function.\n",
    "    Function is specified when we have to use the block of code several times in single program,\n",
    "    We call the function at the time when we have to use the block of code which was written under function.\n",
    "    "
   ]
  },
  {
   "cell_type": "raw",
   "id": "bf461238",
   "metadata": {},
   "source": [
    "3. What statement creates a function?\n",
    "\n",
    "Ans)A function is defined by the def keyword then name of fuction must be written after space and then colon:\n",
    "    Press enter and then enter the block of code which is needed."
   ]
  },
  {
   "cell_type": "raw",
   "id": "828e4c27",
   "metadata": {},
   "source": [
    "4. What is the difference between a function and a function call?\n",
    "\n",
    "Ans)A function is a code which is defined by the keyword 'def', while the function call with the function name when the block of code needs to be run.\n",
    "\n",
    "Function       -   def test():\n",
    "Function call  -    test()"
   ]
  },
  {
   "cell_type": "raw",
   "id": "59f1eaaf",
   "metadata": {},
   "source": [
    "5. How many global scopes are there in a Python program? How many local scopes?\n",
    "\n",
    "Ans)There is a 1 global scope and 1 local scope."
   ]
  },
  {
   "cell_type": "raw",
   "id": "72d98a08",
   "metadata": {},
   "source": [
    "6. What happens to variables in a local scope when the function call returns?\n",
    "\n",
    "Ans)Each call of the function creates new local variables, and their lifetimes expire when the function returns to the caller.\n"
   ]
  },
  {
   "cell_type": "raw",
   "id": "09af3585",
   "metadata": {},
   "source": [
    "7. What is the concept of a return value? Is it possible to have a return value in an expression?\n",
    "\n",
    "Ans)Whenever a functions is defined, then its display a result too, in case of return value function returns the value of any specific data type.\n",
    "    Yes, it is possible to return value in expression:\n",
    "    example - return a**2+5"
   ]
  },
  {
   "cell_type": "raw",
   "id": "b63690d1",
   "metadata": {},
   "source": [
    "8. If a function does not have a return statement, what is the return value of a call to that function?\n",
    "\n",
    "Ans)If a function don't have a return value then it display the result as a None type value."
   ]
  },
  {
   "cell_type": "raw",
   "id": "9a8cd70d",
   "metadata": {},
   "source": [
    "9. How do you make a function variable refer to the global variable?\n",
    "\n",
    "Ans)If the value assigned to the variable outside the function's body, then its refers to the global variable."
   ]
  },
  {
   "cell_type": "raw",
   "id": "14010e7d",
   "metadata": {},
   "source": [
    "10. What is the data type of None?\n",
    "\n",
    "Ans) Nonetype"
   ]
  },
  {
   "cell_type": "raw",
   "id": "65a0718b",
   "metadata": {},
   "source": [
    "11. What does the sentence import areallyourpetsnamederic do?\n",
    "\n",
    "Ans) It imports the modules named areallyourpetsnamederic."
   ]
  },
  {
   "cell_type": "raw",
   "id": "1359ab0b",
   "metadata": {},
   "source": [
    "12. If you had a bacon() feature in a spam module, what would you call it after importing spam?\n",
    "\n",
    "Ans) spam.bacon()"
   ]
  },
  {
   "cell_type": "raw",
   "id": "54fcbcbd",
   "metadata": {},
   "source": [
    "13. What can you do to save a programme from crashing if it encounters an error?\n",
    "\n",
    "Ans)Put the code under try block."
   ]
  },
  {
   "cell_type": "raw",
   "id": "67ee1f11",
   "metadata": {},
   "source": [
    "14. What is the purpose of the try clause? What is the purpose of the except clause?\n",
    "\n",
    "Ans) try clause prevent the program from crashing if there is any exception error in the code.\n",
    "     The code that execute if there is any error then it came to except clause and except clause can provide the detail of error."
   ]
  }
 ],
 "metadata": {
  "kernelspec": {
   "display_name": "Python 3 (ipykernel)",
   "language": "python",
   "name": "python3"
  },
  "language_info": {
   "codemirror_mode": {
    "name": "ipython",
    "version": 3
   },
   "file_extension": ".py",
   "mimetype": "text/x-python",
   "name": "python",
   "nbconvert_exporter": "python",
   "pygments_lexer": "ipython3",
   "version": "3.7.1"
  }
 },
 "nbformat": 4,
 "nbformat_minor": 5
}
