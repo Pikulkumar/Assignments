{
 "cells": [
  {
   "cell_type": "code",
   "execution_count": 3,
   "id": "51555d60",
   "metadata": {},
   "outputs": [],
   "source": [
    "#1. Write a Python Program to Display Fibonacci Sequence Using Recursion?\n",
    "\n",
    "def fib(n):\n",
    "    a=0\n",
    "    b=1\n",
    "    for i in range(1,n+1):\n",
    "        print(a,end=\" \")\n",
    "        f=a+b\n",
    "        a=b\n",
    "        b=f"
   ]
  },
  {
   "cell_type": "code",
   "execution_count": 4,
   "id": "26c98dcb",
   "metadata": {},
   "outputs": [
    {
     "name": "stdout",
     "output_type": "stream",
     "text": [
      "0 1 1 2 3 5 8 13 21 34 "
     ]
    }
   ],
   "source": [
    "fib(10)"
   ]
  },
  {
   "cell_type": "code",
   "execution_count": 7,
   "id": "7253d6e1",
   "metadata": {},
   "outputs": [],
   "source": [
    "#2. Write a Python Program to Find Factorial of Number Using Recursion?\n",
    "\n",
    "def factorial(n):\n",
    "    sum=1\n",
    "    i=n\n",
    "    while i>0:\n",
    "        sum=sum*i\n",
    "        i=i-1\n",
    "    return(sum)    \n",
    "        "
   ]
  },
  {
   "cell_type": "code",
   "execution_count": 8,
   "id": "cb2686b7",
   "metadata": {},
   "outputs": [
    {
     "data": {
      "text/plain": [
       "120"
      ]
     },
     "execution_count": 8,
     "metadata": {},
     "output_type": "execute_result"
    }
   ],
   "source": [
    "factorial(5)"
   ]
  },
  {
   "cell_type": "code",
   "execution_count": 10,
   "id": "683b360f",
   "metadata": {},
   "outputs": [
    {
     "name": "stdout",
     "output_type": "stream",
     "text": [
      "Enter the weight in Kgs : 76\n",
      "Enter the height in meters : 1.7\n",
      "26.29757785467128\n"
     ]
    }
   ],
   "source": [
    "#3. Write a Python Program to calculate your Body Mass Index?\n",
    "\n",
    "weight=float(input(\"Enter the weight in Kgs : \"))\n",
    "height=float(input(\"Enter the height in meters : \"))\n",
    "\n",
    "BMI = weight/(height**2)\n",
    "print(BMI)"
   ]
  },
  {
   "cell_type": "code",
   "execution_count": 13,
   "id": "edc7dc98",
   "metadata": {},
   "outputs": [
    {
     "name": "stdout",
     "output_type": "stream",
     "text": [
      "Enter any number : 55\n",
      "4.007333185232471\n"
     ]
    }
   ],
   "source": [
    "#4. Write a Python Program to calculate the natural logarithm of any number?\n",
    "\n",
    "import math\n",
    "num=int(input(\"Enter any number : \"))\n",
    "\n",
    "logarithm= math.log(num)\n",
    "print(logarithm)"
   ]
  },
  {
   "cell_type": "code",
   "execution_count": 14,
   "id": "06f29331",
   "metadata": {},
   "outputs": [
    {
     "name": "stdout",
     "output_type": "stream",
     "text": [
      "Enter the natural number : 10\n",
      "3025\n"
     ]
    }
   ],
   "source": [
    "#5. Write a Python Program for cube sum of first n natural numbers?\n",
    "\n",
    "num=int(input(\"Enter the natural number : \"))\n",
    "sum=0\n",
    "for i in range(1,num+1):\n",
    "    sum=sum+i**3\n",
    "print(sum)    \n"
   ]
  },
  {
   "cell_type": "code",
   "execution_count": null,
   "id": "dd43f146",
   "metadata": {},
   "outputs": [],
   "source": []
  }
 ],
 "metadata": {
  "kernelspec": {
   "display_name": "Python 3 (ipykernel)",
   "language": "python",
   "name": "python3"
  },
  "language_info": {
   "codemirror_mode": {
    "name": "ipython",
    "version": 3
   },
   "file_extension": ".py",
   "mimetype": "text/x-python",
   "name": "python",
   "nbconvert_exporter": "python",
   "pygments_lexer": "ipython3",
   "version": "3.7.1"
  }
 },
 "nbformat": 4,
 "nbformat_minor": 5
}
