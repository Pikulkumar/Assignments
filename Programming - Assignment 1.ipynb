{
 "cells": [
  {
   "cell_type": "code",
   "execution_count": 1,
   "id": "2b6511c3",
   "metadata": {},
   "outputs": [
    {
     "name": "stdout",
     "output_type": "stream",
     "text": [
      "Hello python\n"
     ]
    }
   ],
   "source": [
    "#1. Write a Python program to print 'Hello Python'?\n",
    "\n",
    "print(\"Hello python\")"
   ]
  },
  {
   "cell_type": "code",
   "execution_count": 1,
   "id": "b76cc25f",
   "metadata": {},
   "outputs": [
    {
     "name": "stdout",
     "output_type": "stream",
     "text": [
      "Addition is :  30\n",
      "Division is :  0.5\n"
     ]
    }
   ],
   "source": [
    "#2. Write a Python program to do arithmetical operations addition and division.?\n",
    "\n",
    "a=10\n",
    "b=20\n",
    "c= a+b\n",
    "d=a/b\n",
    "\n",
    "print(\"Addition is : \",c)\n",
    "print(\"Division is : \",d)"
   ]
  },
  {
   "cell_type": "code",
   "execution_count": 3,
   "id": "581a73ea",
   "metadata": {},
   "outputs": [
    {
     "name": "stdout",
     "output_type": "stream",
     "text": [
      "Enter the value of height of a triangle10\n",
      "Enter the value of base of a triangle5\n",
      "Area of triangle is :  25.0\n"
     ]
    }
   ],
   "source": [
    "#3. Write a Python program to find the area of a triangle?\n",
    "\n",
    "h=int(input(\"Enter the value of height of a triangle\"))\n",
    "b=int(input(\"Enter the value of base of a triangle\"))\n",
    "\n",
    "Area= (h*b)/2\n",
    "\n",
    "print(\"Area of triangle is : \",Area)"
   ]
  },
  {
   "cell_type": "code",
   "execution_count": 9,
   "id": "3e42c392",
   "metadata": {},
   "outputs": [
    {
     "name": "stdout",
     "output_type": "stream",
     "text": [
      "a before swap is :  10\n",
      "b before swap is :  20\n",
      "a after sawp is :  20\n",
      "b after swap is :  10\n"
     ]
    }
   ],
   "source": [
    "#4. Write a Python program to swap two variables?\n",
    "\n",
    "a=10\n",
    "b=20\n",
    "print(\"a before swap is : \",a)\n",
    "print(\"b before swap is : \",b)\n",
    "\n",
    "a=a+b\n",
    "b=a-b\n",
    "a=a-b\n",
    "\n",
    "print(\"a after sawp is : \",a)\n",
    "print(\"b after swap is : \",b)\n"
   ]
  },
  {
   "cell_type": "code",
   "execution_count": 11,
   "id": "ada909cc",
   "metadata": {},
   "outputs": [
    {
     "name": "stdout",
     "output_type": "stream",
     "text": [
      "1\n"
     ]
    }
   ],
   "source": [
    "#5. Write a Python program to generate a random number?\n",
    "\n",
    "import random\n",
    "print(random.randint(0,6))"
   ]
  },
  {
   "cell_type": "code",
   "execution_count": null,
   "id": "82ef3c64",
   "metadata": {},
   "outputs": [],
   "source": []
  }
 ],
 "metadata": {
  "kernelspec": {
   "display_name": "Python 3 (ipykernel)",
   "language": "python",
   "name": "python3"
  },
  "language_info": {
   "codemirror_mode": {
    "name": "ipython",
    "version": 3
   },
   "file_extension": ".py",
   "mimetype": "text/x-python",
   "name": "python",
   "nbconvert_exporter": "python",
   "pygments_lexer": "ipython3",
   "version": "3.7.1"
  }
 },
 "nbformat": 4,
 "nbformat_minor": 5
}
